{
 "cells": [
  {
   "cell_type": "code",
   "execution_count": 1,
   "id": "285706a3-9cca-4d90-a4c8-97ede57776f9",
   "metadata": {},
   "outputs": [
    {
     "name": "stderr",
     "output_type": "stream",
     "text": [
      "/opt/conda/lib/python3.7/site-packages/kfp/v2/compiler/compiler.py:1293: FutureWarning: APIs imported from the v1 namespace (e.g. kfp.dsl, kfp.components, etc) will not be supported by the v2 compiler since v2.0.0\n",
      "  category=FutureWarning,\n"
     ]
    }
   ],
   "source": [
    "import os\n",
    "import google.cloud.aiplatform as aip\n",
    "\n",
    "from kfp.v2 import dsl\n",
    "from kfp.v2 import compiler\n",
    "\n",
    "@dsl.component\n",
    "def hello_world(text: str) -> str:\n",
    "    print(text)\n",
    "    return text\n",
    "\n",
    "@dsl.pipeline(name='hello-world', description='A simple intro pipeline')\n",
    "def pipeline_hello_world(text: str = 'hi there'):\n",
    "    #\"\"\"Pipeline that passes small pipeline parameter string to consumer op.\"\"\"\n",
    "    consume_task = hello_world(text=text)  # Passing pipeline parameter as argument to consumer op\n",
    "    \n",
    "compiler.Compiler().compile(\n",
    "    pipeline_func=pipeline_hello_world,\n",
    "    package_path='hello_world_pipeline.json')"
   ]
  },
  {
   "cell_type": "code",
   "execution_count": 2,
   "id": "c01f3d83-5557-4c83-b054-dad774086dcd",
   "metadata": {},
   "outputs": [],
   "source": [
    "aip.init(project=\"tim-com-svil-p207-l99\", location=\"europe-west4\")"
   ]
  },
  {
   "cell_type": "code",
   "execution_count": 3,
   "id": "b924e634-8b2e-41e6-86c5-62a28d6d619a",
   "metadata": {},
   "outputs": [
    {
     "name": "stdout",
     "output_type": "stream",
     "text": [
      "Creating PipelineJob\n",
      "PipelineJob created. Resource name: projects/904731350891/locations/europe-west4/pipelineJobs/hello-world-20230327094358\n",
      "To use this PipelineJob in another session:\n",
      "pipeline_job = aiplatform.PipelineJob.get('projects/904731350891/locations/europe-west4/pipelineJobs/hello-world-20230327094358')\n",
      "View Pipeline Job:\n",
      "https://console.cloud.google.com/vertex-ai/locations/europe-west4/pipelines/runs/hello-world-20230327094358?project=904731350891\n"
     ]
    }
   ],
   "source": [
    "job = aip.PipelineJob(\n",
    "    display_name=\"hello-world-test\",\n",
    "    template_path=\"hello_world_pipeline.json\",\n",
    "    #pipeline_root=\"gs://rcasero-playground1-mlops/pipeline_root/hello_world\"\n",
    ")\n",
    "\n",
    "job.submit(\n",
    "    #service_account=\"904731350891-compute@developer.gserviceaccount.com\"\n",
    ")"
   ]
  },
  {
   "cell_type": "code",
   "execution_count": None,
   "id": "8fd44533-6756-4074-85eb-62db6f35b1e9",
   "metadata": {},
   "outputs": [],
   "source": []
  }
 ],
 "metadata": {
  "environment": {
   "kernel": "python3",
   "name": "common-cpu.m103",
   "type": "gcloud",
   "uri": "gcr.io/deeplearning-platform-release/base-cpu:m103"
  },
  "kernelspec": {
   "display_name": "Python 3",
   "language": "python",
   "name": "python3"
  },
  "language_info": {
   "codemirror_mode": {
    "name": "ipython",
    "version": 3
   },
   "file_extension": ".py",
   "mimetype": "text/x-python",
   "name": "python",
   "nbconvert_exporter": "python",
   "pygments_lexer": "ipython3",
   "version": "3.7.12"
  }
 },
 "nbformat": 4,
 "nbformat_minor": 5
}
